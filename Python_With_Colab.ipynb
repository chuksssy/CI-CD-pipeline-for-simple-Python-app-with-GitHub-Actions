{
  "nbformat": 4,
  "nbformat_minor": 0,
  "metadata": {
    "colab": {
      "provenance": [],
      "toc_visible": true,
      "authorship_tag": "ABX9TyOxQ/MnyuG1bkNlI6E768uL",
      "include_colab_link": true
    },
    "kernelspec": {
      "name": "python3",
      "display_name": "Python 3"
    },
    "language_info": {
      "name": "python"
    }
  },
  "cells": [
    {
      "cell_type": "markdown",
      "metadata": {
        "id": "view-in-github",
        "colab_type": "text"
      },
      "source": [
        "<a href=\"https://colab.research.google.com/github/chuksssy/CI-CD-pipeline-for-simple-Python-app-with-GitHub-Actions/blob/main/Python_With_Colab.ipynb\" target=\"_parent\"><img src=\"https://colab.research.google.com/assets/colab-badge.svg\" alt=\"Open In Colab\"/></a>"
      ]
    },
    {
      "cell_type": "markdown",
      "source": [
        "# Introduction to Python\n"
      ],
      "metadata": {
        "id": "rt3u4XUoeTlJ"
      }
    },
    {
      "cell_type": "markdown",
      "source": [
        "# List and Dictionaries\n"
      ],
      "metadata": {
        "id": "3qvpTLcNeZYA"
      }
    },
    {
      "cell_type": "code",
      "source": [
        "Meals = [\"Rice\", \"Beans\", \"Spagetti\", \"Garri\"]"
      ],
      "metadata": {
        "id": "VZhhUKyreikL"
      },
      "execution_count": 3,
      "outputs": []
    },
    {
      "cell_type": "code",
      "source": [
        "for myMeals in Meals:\n",
        "  print(myMeals)"
      ],
      "metadata": {
        "colab": {
          "base_uri": "https://localhost:8080/"
        },
        "id": "3YxhpJJHfANs",
        "outputId": "5b956ff9-bd91-4be3-bfd7-26de9e4bfca4"
      },
      "execution_count": 4,
      "outputs": [
        {
          "output_type": "stream",
          "name": "stdout",
          "text": [
            "Rice\n",
            "Beans\n",
            "Spagetti\n",
            "Garri\n"
          ]
        }
      ]
    }
  ]
}